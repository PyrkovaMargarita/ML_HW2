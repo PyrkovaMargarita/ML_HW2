{
 "cells": [
  {
   "cell_type": "code",
   "execution_count": 16,
   "metadata": {
    "id": "OMaboG_aCbOY"
   },
   "outputs": [],
   "source": [
    "import pandas as pd\n",
    "import numpy as np\n",
    "import seaborn as sns\n",
    "import matplotlib.pyplot as plt"
   ]
  },
  {
   "cell_type": "code",
   "execution_count": 17,
   "metadata": {},
   "outputs": [],
   "source": [
    "#! pip uninstall scikit-learn"
   ]
  },
  {
   "cell_type": "markdown",
   "metadata": {
    "id": "Z6rjXwjTClPB"
   },
   "source": [
    "Загрузка датасета, проверка на наличие пропусков и дубликатов (их удаление при наличии)\n"
   ]
  },
  {
   "cell_type": "code",
   "execution_count": 18,
   "metadata": {
    "colab": {
     "base_uri": "https://localhost:8080/"
    },
    "id": "GvgkB70yCpDJ",
    "outputId": "ea420829-9218-4401-fe8f-5e4e17882948"
   },
   "outputs": [
    {
     "name": "stdout",
     "output_type": "stream",
     "text": [
      "Было удалено 1080 повторяющихся значений\n",
      "В датафрейме 0 пустых значений\n"
     ]
    }
   ],
   "source": [
    "df=pd.read_csv('/Users/margo/Desktop/creditcard.csv')\n",
    "print('Было удалено', df.duplicated().sum()-1, 'повторяющихся значений')\n",
    "df=df.drop_duplicates(keep='first')\n",
    "print('В датафрейме',df.isna().sum().sum(),'пустых значений')"
   ]
  },
  {
   "cell_type": "markdown",
   "metadata": {
    "id": "REjd8ta9DrLB"
   },
   "source": [
    " Основные параметры операции - время платежа(Time), отсчитывается с совершения первой операции, сумма платежа (Amount), набор некоторых параметров V1-V28, а также параметр Class, который принимает значение 1, если операция мошенническая и 0, если честная. Параметр Class выступает в роли target переменной"
   ]
  },
  {
   "cell_type": "code",
   "execution_count": 19,
   "metadata": {
    "colab": {
     "base_uri": "https://localhost:8080/",
     "height": 350
    },
    "id": "PyF8Lk-8UlPh",
    "outputId": "d5f077a5-27e8-4413-efba-bb5cec167129"
   },
   "outputs": [
    {
     "data": {
      "text/html": [
       "<div>\n",
       "<style scoped>\n",
       "    .dataframe tbody tr th:only-of-type {\n",
       "        vertical-align: middle;\n",
       "    }\n",
       "\n",
       "    .dataframe tbody tr th {\n",
       "        vertical-align: top;\n",
       "    }\n",
       "\n",
       "    .dataframe thead th {\n",
       "        text-align: right;\n",
       "    }\n",
       "</style>\n",
       "<table border=\"1\" class=\"dataframe\">\n",
       "  <thead>\n",
       "    <tr style=\"text-align: right;\">\n",
       "      <th></th>\n",
       "      <th>Time</th>\n",
       "      <th>V1</th>\n",
       "      <th>V2</th>\n",
       "      <th>V3</th>\n",
       "      <th>V4</th>\n",
       "      <th>V5</th>\n",
       "      <th>V6</th>\n",
       "      <th>V7</th>\n",
       "      <th>V8</th>\n",
       "      <th>V9</th>\n",
       "      <th>...</th>\n",
       "      <th>V21</th>\n",
       "      <th>V22</th>\n",
       "      <th>V23</th>\n",
       "      <th>V24</th>\n",
       "      <th>V25</th>\n",
       "      <th>V26</th>\n",
       "      <th>V27</th>\n",
       "      <th>V28</th>\n",
       "      <th>Amount</th>\n",
       "      <th>Class</th>\n",
       "    </tr>\n",
       "  </thead>\n",
       "  <tbody>\n",
       "    <tr>\n",
       "      <th>count</th>\n",
       "      <td>283726.000000</td>\n",
       "      <td>283726.000000</td>\n",
       "      <td>283726.000000</td>\n",
       "      <td>283726.000000</td>\n",
       "      <td>283726.000000</td>\n",
       "      <td>283726.000000</td>\n",
       "      <td>283726.000000</td>\n",
       "      <td>283726.000000</td>\n",
       "      <td>283726.000000</td>\n",
       "      <td>283726.000000</td>\n",
       "      <td>...</td>\n",
       "      <td>283726.000000</td>\n",
       "      <td>283726.000000</td>\n",
       "      <td>283726.000000</td>\n",
       "      <td>283726.000000</td>\n",
       "      <td>283726.000000</td>\n",
       "      <td>283726.000000</td>\n",
       "      <td>283726.000000</td>\n",
       "      <td>283726.000000</td>\n",
       "      <td>283726.000000</td>\n",
       "      <td>283726.000000</td>\n",
       "    </tr>\n",
       "    <tr>\n",
       "      <th>mean</th>\n",
       "      <td>94811.077600</td>\n",
       "      <td>0.005917</td>\n",
       "      <td>-0.004135</td>\n",
       "      <td>0.001613</td>\n",
       "      <td>-0.002966</td>\n",
       "      <td>0.001828</td>\n",
       "      <td>-0.001139</td>\n",
       "      <td>0.001801</td>\n",
       "      <td>-0.000854</td>\n",
       "      <td>-0.001596</td>\n",
       "      <td>...</td>\n",
       "      <td>-0.000371</td>\n",
       "      <td>-0.000015</td>\n",
       "      <td>0.000198</td>\n",
       "      <td>0.000214</td>\n",
       "      <td>-0.000232</td>\n",
       "      <td>0.000149</td>\n",
       "      <td>0.001763</td>\n",
       "      <td>0.000547</td>\n",
       "      <td>88.472687</td>\n",
       "      <td>0.001667</td>\n",
       "    </tr>\n",
       "    <tr>\n",
       "      <th>std</th>\n",
       "      <td>47481.047891</td>\n",
       "      <td>1.948026</td>\n",
       "      <td>1.646703</td>\n",
       "      <td>1.508682</td>\n",
       "      <td>1.414184</td>\n",
       "      <td>1.377008</td>\n",
       "      <td>1.331931</td>\n",
       "      <td>1.227664</td>\n",
       "      <td>1.179054</td>\n",
       "      <td>1.095492</td>\n",
       "      <td>...</td>\n",
       "      <td>0.723909</td>\n",
       "      <td>0.724550</td>\n",
       "      <td>0.623702</td>\n",
       "      <td>0.605627</td>\n",
       "      <td>0.521220</td>\n",
       "      <td>0.482053</td>\n",
       "      <td>0.395744</td>\n",
       "      <td>0.328027</td>\n",
       "      <td>250.399437</td>\n",
       "      <td>0.040796</td>\n",
       "    </tr>\n",
       "    <tr>\n",
       "      <th>min</th>\n",
       "      <td>0.000000</td>\n",
       "      <td>-56.407510</td>\n",
       "      <td>-72.715728</td>\n",
       "      <td>-48.325589</td>\n",
       "      <td>-5.683171</td>\n",
       "      <td>-113.743307</td>\n",
       "      <td>-26.160506</td>\n",
       "      <td>-43.557242</td>\n",
       "      <td>-73.216718</td>\n",
       "      <td>-13.434066</td>\n",
       "      <td>...</td>\n",
       "      <td>-34.830382</td>\n",
       "      <td>-10.933144</td>\n",
       "      <td>-44.807735</td>\n",
       "      <td>-2.836627</td>\n",
       "      <td>-10.295397</td>\n",
       "      <td>-2.604551</td>\n",
       "      <td>-22.565679</td>\n",
       "      <td>-15.430084</td>\n",
       "      <td>0.000000</td>\n",
       "      <td>0.000000</td>\n",
       "    </tr>\n",
       "    <tr>\n",
       "      <th>25%</th>\n",
       "      <td>54204.750000</td>\n",
       "      <td>-0.915951</td>\n",
       "      <td>-0.600321</td>\n",
       "      <td>-0.889682</td>\n",
       "      <td>-0.850134</td>\n",
       "      <td>-0.689830</td>\n",
       "      <td>-0.769031</td>\n",
       "      <td>-0.552509</td>\n",
       "      <td>-0.208828</td>\n",
       "      <td>-0.644221</td>\n",
       "      <td>...</td>\n",
       "      <td>-0.228305</td>\n",
       "      <td>-0.542700</td>\n",
       "      <td>-0.161703</td>\n",
       "      <td>-0.354453</td>\n",
       "      <td>-0.317485</td>\n",
       "      <td>-0.326763</td>\n",
       "      <td>-0.070641</td>\n",
       "      <td>-0.052818</td>\n",
       "      <td>5.600000</td>\n",
       "      <td>0.000000</td>\n",
       "    </tr>\n",
       "    <tr>\n",
       "      <th>50%</th>\n",
       "      <td>84692.500000</td>\n",
       "      <td>0.020384</td>\n",
       "      <td>0.063949</td>\n",
       "      <td>0.179963</td>\n",
       "      <td>-0.022248</td>\n",
       "      <td>-0.053468</td>\n",
       "      <td>-0.275168</td>\n",
       "      <td>0.040859</td>\n",
       "      <td>0.021898</td>\n",
       "      <td>-0.052596</td>\n",
       "      <td>...</td>\n",
       "      <td>-0.029441</td>\n",
       "      <td>0.006675</td>\n",
       "      <td>-0.011159</td>\n",
       "      <td>0.041016</td>\n",
       "      <td>0.016278</td>\n",
       "      <td>-0.052172</td>\n",
       "      <td>0.001479</td>\n",
       "      <td>0.011288</td>\n",
       "      <td>22.000000</td>\n",
       "      <td>0.000000</td>\n",
       "    </tr>\n",
       "    <tr>\n",
       "      <th>75%</th>\n",
       "      <td>139298.000000</td>\n",
       "      <td>1.316068</td>\n",
       "      <td>0.800283</td>\n",
       "      <td>1.026960</td>\n",
       "      <td>0.739647</td>\n",
       "      <td>0.612218</td>\n",
       "      <td>0.396792</td>\n",
       "      <td>0.570474</td>\n",
       "      <td>0.325704</td>\n",
       "      <td>0.595977</td>\n",
       "      <td>...</td>\n",
       "      <td>0.186194</td>\n",
       "      <td>0.528245</td>\n",
       "      <td>0.147748</td>\n",
       "      <td>0.439738</td>\n",
       "      <td>0.350667</td>\n",
       "      <td>0.240261</td>\n",
       "      <td>0.091208</td>\n",
       "      <td>0.078276</td>\n",
       "      <td>77.510000</td>\n",
       "      <td>0.000000</td>\n",
       "    </tr>\n",
       "    <tr>\n",
       "      <th>max</th>\n",
       "      <td>172792.000000</td>\n",
       "      <td>2.454930</td>\n",
       "      <td>22.057729</td>\n",
       "      <td>9.382558</td>\n",
       "      <td>16.875344</td>\n",
       "      <td>34.801666</td>\n",
       "      <td>73.301626</td>\n",
       "      <td>120.589494</td>\n",
       "      <td>20.007208</td>\n",
       "      <td>15.594995</td>\n",
       "      <td>...</td>\n",
       "      <td>27.202839</td>\n",
       "      <td>10.503090</td>\n",
       "      <td>22.528412</td>\n",
       "      <td>4.584549</td>\n",
       "      <td>7.519589</td>\n",
       "      <td>3.517346</td>\n",
       "      <td>31.612198</td>\n",
       "      <td>33.847808</td>\n",
       "      <td>25691.160000</td>\n",
       "      <td>1.000000</td>\n",
       "    </tr>\n",
       "  </tbody>\n",
       "</table>\n",
       "<p>8 rows × 31 columns</p>\n",
       "</div>"
      ],
      "text/plain": [
       "                Time             V1             V2             V3  \\\n",
       "count  283726.000000  283726.000000  283726.000000  283726.000000   \n",
       "mean    94811.077600       0.005917      -0.004135       0.001613   \n",
       "std     47481.047891       1.948026       1.646703       1.508682   \n",
       "min         0.000000     -56.407510     -72.715728     -48.325589   \n",
       "25%     54204.750000      -0.915951      -0.600321      -0.889682   \n",
       "50%     84692.500000       0.020384       0.063949       0.179963   \n",
       "75%    139298.000000       1.316068       0.800283       1.026960   \n",
       "max    172792.000000       2.454930      22.057729       9.382558   \n",
       "\n",
       "                  V4             V5             V6             V7  \\\n",
       "count  283726.000000  283726.000000  283726.000000  283726.000000   \n",
       "mean       -0.002966       0.001828      -0.001139       0.001801   \n",
       "std         1.414184       1.377008       1.331931       1.227664   \n",
       "min        -5.683171    -113.743307     -26.160506     -43.557242   \n",
       "25%        -0.850134      -0.689830      -0.769031      -0.552509   \n",
       "50%        -0.022248      -0.053468      -0.275168       0.040859   \n",
       "75%         0.739647       0.612218       0.396792       0.570474   \n",
       "max        16.875344      34.801666      73.301626     120.589494   \n",
       "\n",
       "                  V8             V9  ...            V21            V22  \\\n",
       "count  283726.000000  283726.000000  ...  283726.000000  283726.000000   \n",
       "mean       -0.000854      -0.001596  ...      -0.000371      -0.000015   \n",
       "std         1.179054       1.095492  ...       0.723909       0.724550   \n",
       "min       -73.216718     -13.434066  ...     -34.830382     -10.933144   \n",
       "25%        -0.208828      -0.644221  ...      -0.228305      -0.542700   \n",
       "50%         0.021898      -0.052596  ...      -0.029441       0.006675   \n",
       "75%         0.325704       0.595977  ...       0.186194       0.528245   \n",
       "max        20.007208      15.594995  ...      27.202839      10.503090   \n",
       "\n",
       "                 V23            V24            V25            V26  \\\n",
       "count  283726.000000  283726.000000  283726.000000  283726.000000   \n",
       "mean        0.000198       0.000214      -0.000232       0.000149   \n",
       "std         0.623702       0.605627       0.521220       0.482053   \n",
       "min       -44.807735      -2.836627     -10.295397      -2.604551   \n",
       "25%        -0.161703      -0.354453      -0.317485      -0.326763   \n",
       "50%        -0.011159       0.041016       0.016278      -0.052172   \n",
       "75%         0.147748       0.439738       0.350667       0.240261   \n",
       "max        22.528412       4.584549       7.519589       3.517346   \n",
       "\n",
       "                 V27            V28         Amount          Class  \n",
       "count  283726.000000  283726.000000  283726.000000  283726.000000  \n",
       "mean        0.001763       0.000547      88.472687       0.001667  \n",
       "std         0.395744       0.328027     250.399437       0.040796  \n",
       "min       -22.565679     -15.430084       0.000000       0.000000  \n",
       "25%        -0.070641      -0.052818       5.600000       0.000000  \n",
       "50%         0.001479       0.011288      22.000000       0.000000  \n",
       "75%         0.091208       0.078276      77.510000       0.000000  \n",
       "max        31.612198      33.847808   25691.160000       1.000000  \n",
       "\n",
       "[8 rows x 31 columns]"
      ]
     },
     "execution_count": 19,
     "metadata": {},
     "output_type": "execute_result"
    }
   ],
   "source": [
    "df.describe()"
   ]
  },
  {
   "cell_type": "markdown",
   "metadata": {
    "id": "W3kIPQXjVQWP"
   },
   "source": [
    "Соотношение мошеннических и честных операций:"
   ]
  },
  {
   "cell_type": "code",
   "execution_count": 20,
   "metadata": {
    "colab": {
     "base_uri": "https://localhost:8080/"
    },
    "id": "QWdiKnJEWg0B",
    "outputId": "f7c341c9-f0af-4da6-dd4e-8dc5609575be"
   },
   "outputs": [
    {
     "name": "stdout",
     "output_type": "stream",
     "text": [
      "473 мошеннических операций и 283253 честных операций\n"
     ]
    }
   ],
   "source": [
    "C1=df[df['Class']==1]\n",
    "C2=df[df['Class']==0]\n",
    "print(len(C1),'мошеннических операций и',len(C2),'честных операций')"
   ]
  },
  {
   "cell_type": "markdown",
   "metadata": {
    "id": "k1d6-qIjW_fz"
   },
   "source": [
    "Очевидно, что данные несбалансированны, поскольку количество мошеннических операций минимально по отношению к честным. Перебалансируем данные методом NearMiss-1"
   ]
  },
  {
   "cell_type": "markdown",
   "metadata": {
    "id": "SMqhRnSEaj-1"
   },
   "source": [
    "Построение карты распределения кореляций для сбалансированной выборки"
   ]
  },
  {
   "cell_type": "code",
   "execution_count": 21,
   "metadata": {
    "colab": {
     "base_uri": "https://localhost:8080/",
     "height": 660
    },
    "id": "R6wAWqqLa5Sv",
    "outputId": "74223ff7-c13a-4d04-9c2a-d8337b21e05b",
    "scrolled": true
   },
   "outputs": [
    {
     "data": {
      "image/png": "[encoded data removed]",
      "text/plain": [
       "<Figure size 1500x1300 with 2 Axes>"
      ]
     },
     "metadata": {},
     "output_type": "display_data"
    }
   ],
   "source": [
    "\n",
    "plt.figure(figsize = (15,13))\n",
    "sns.heatmap(df.corr());"
   ]
  },
  {
   "cell_type": "markdown",
   "metadata": {
    "id": "iHLZWUGVbtMz"
   },
   "source": [
    "Отметим, что данные между собой не кореллируют. Разделим выборку на две подвыборки train и test, сохраняяя пропорции фичи Class"
   ]
  },
  {
   "cell_type": "code",
   "execution_count": 22,
   "metadata": {
    "colab": {
     "base_uri": "https://localhost:8080/",
     "height": 318
    },
    "id": "4u2gZvepdOtE",
    "outputId": "b281b0d9-5647-4312-902a-f81280826987"
   },
   "outputs": [],
   "source": [
    "x=df.drop('Class',axis=1)\n",
    "y=df['Class']\n",
    "from sklearn.model_selection import train_test_split\n",
    "x_train, x_test, y_train, y_test = train_test_split(\n",
    "    x,\n",
    "    y,\n",
    "    random_state=0,\n",
    "    test_size=0.2,\n",
    "    stratify=y\n",
    ")\n",
    "from sklearn.preprocessing import StandardScaler\n",
    "ss = StandardScaler()\n",
    "ss.fit(x_train)\n",
    "x_train_ss = pd.DataFrame(data=ss.transform(x_train), columns=ss.get_feature_names_out())\n",
    "x_test_ss = pd.DataFrame(data=ss.transform(x_test), columns=ss.get_feature_names_out())"
   ]
  },
  {
   "cell_type": "markdown",
   "metadata": {},
   "source": [
    "Сделаем under_sample обучающей выборки"
   ]
  },
  {
   "cell_type": "code",
   "execution_count": 23,
   "metadata": {
    "colab": {
     "base_uri": "https://localhost:8080/"
    },
    "id": "mZnQzg_PX8zp",
    "outputId": "4c148d23-f26f-4809-e02b-cfd2476f0757"
   },
   "outputs": [
    {
     "name": "stdout",
     "output_type": "stream",
     "text": [
      "Вхождение данных разных классов в сбалансированную выборку\n",
      "Class\n",
      "0    378\n",
      "1    378\n",
      "Name: count, dtype: int64\n"
     ]
    }
   ],
   "source": [
    "from imblearn.under_sampling import NearMiss\n",
    "nm = NearMiss(version=1)\n",
    "x,y=nm.fit_resample(x_train_ss, y_train)\n",
    "x1=x\n",
    "print('Вхождение данных разных классов в сбалансированную выборку')\n",
    "print( y.value_counts())\n"
   ]
  },
  {
   "cell_type": "markdown",
   "metadata": {
    "id": "rmm-aXYve6zj"
   },
   "source": [
    "Сравним статистики  генеральной, обучающей и тестовой выборки"
   ]
  },
  {
   "cell_type": "code",
   "execution_count": 24,
   "metadata": {
    "colab": {
     "base_uri": "https://localhost:8080/",
     "height": 367
    },
    "id": "1IjkllC0gUIk",
    "outputId": "62553032-5e9a-4340-c15e-c49dad09303d"
   },
   "outputs": [
    {
     "name": "stdout",
     "output_type": "stream",
     "text": [
      "Статистики генеральной выборки\n"
     ]
    },
    {
     "data": {
      "text/html": [
       "<div>\n",
       "<style scoped>\n",
       "    .dataframe tbody tr th:only-of-type {\n",
       "        vertical-align: middle;\n",
       "    }\n",
       "\n",
       "    .dataframe tbody tr th {\n",
       "        vertical-align: top;\n",
       "    }\n",
       "\n",
       "    .dataframe thead th {\n",
       "        text-align: right;\n",
       "    }\n",
       "</style>\n",
       "<table border=\"1\" class=\"dataframe\">\n",
       "  <thead>\n",
       "    <tr style=\"text-align: right;\">\n",
       "      <th></th>\n",
       "      <th>Time</th>\n",
       "      <th>V1</th>\n",
       "      <th>V2</th>\n",
       "      <th>V3</th>\n",
       "      <th>V4</th>\n",
       "      <th>V5</th>\n",
       "      <th>V6</th>\n",
       "      <th>V7</th>\n",
       "      <th>V8</th>\n",
       "      <th>V9</th>\n",
       "      <th>...</th>\n",
       "      <th>V21</th>\n",
       "      <th>V22</th>\n",
       "      <th>V23</th>\n",
       "      <th>V24</th>\n",
       "      <th>V25</th>\n",
       "      <th>V26</th>\n",
       "      <th>V27</th>\n",
       "      <th>V28</th>\n",
       "      <th>Amount</th>\n",
       "      <th>Class</th>\n",
       "    </tr>\n",
       "  </thead>\n",
       "  <tbody>\n",
       "    <tr>\n",
       "      <th>count</th>\n",
       "      <td>283726.000000</td>\n",
       "      <td>283726.000000</td>\n",
       "      <td>283726.000000</td>\n",
       "      <td>283726.000000</td>\n",
       "      <td>283726.000000</td>\n",
       "      <td>283726.000000</td>\n",
       "      <td>283726.000000</td>\n",
       "      <td>283726.000000</td>\n",
       "      <td>283726.000000</td>\n",
       "      <td>283726.000000</td>\n",
       "      <td>...</td>\n",
       "      <td>283726.000000</td>\n",
       "      <td>283726.000000</td>\n",
       "      <td>283726.000000</td>\n",
       "      <td>283726.000000</td>\n",
       "      <td>283726.000000</td>\n",
       "      <td>283726.000000</td>\n",
       "      <td>283726.000000</td>\n",
       "      <td>283726.000000</td>\n",
       "      <td>283726.000000</td>\n",
       "      <td>283726.000000</td>\n",
       "    </tr>\n",
       "    <tr>\n",
       "      <th>mean</th>\n",
       "      <td>94811.077600</td>\n",
       "      <td>0.005917</td>\n",
       "      <td>-0.004135</td>\n",
       "      <td>0.001613</td>\n",
       "      <td>-0.002966</td>\n",
       "      <td>0.001828</td>\n",
       "      <td>-0.001139</td>\n",
       "      <td>0.001801</td>\n",
       "      <td>-0.000854</td>\n",
       "      <td>-0.001596</td>\n",
       "      <td>...</td>\n",
       "      <td>-0.000371</td>\n",
       "      <td>-0.000015</td>\n",
       "      <td>0.000198</td>\n",
       "      <td>0.000214</td>\n",
       "      <td>-0.000232</td>\n",
       "      <td>0.000149</td>\n",
       "      <td>0.001763</td>\n",
       "      <td>0.000547</td>\n",
       "      <td>88.472687</td>\n",
       "      <td>0.001667</td>\n",
       "    </tr>\n",
       "    <tr>\n",
       "      <th>std</th>\n",
       "      <td>47481.047891</td>\n",
       "      <td>1.948026</td>\n",
       "      <td>1.646703</td>\n",
       "      <td>1.508682</td>\n",
       "      <td>1.414184</td>\n",
       "      <td>1.377008</td>\n",
       "      <td>1.331931</td>\n",
       "      <td>1.227664</td>\n",
       "      <td>1.179054</td>\n",
       "      <td>1.095492</td>\n",
       "      <td>...</td>\n",
       "      <td>0.723909</td>\n",
       "      <td>0.724550</td>\n",
       "      <td>0.623702</td>\n",
       "      <td>0.605627</td>\n",
       "      <td>0.521220</td>\n",
       "      <td>0.482053</td>\n",
       "      <td>0.395744</td>\n",
       "      <td>0.328027</td>\n",
       "      <td>250.399437</td>\n",
       "      <td>0.040796</td>\n",
       "    </tr>\n",
       "    <tr>\n",
       "      <th>min</th>\n",
       "      <td>0.000000</td>\n",
       "      <td>-56.407510</td>\n",
       "      <td>-72.715728</td>\n",
       "      <td>-48.325589</td>\n",
       "      <td>-5.683171</td>\n",
       "      <td>-113.743307</td>\n",
       "      <td>-26.160506</td>\n",
       "      <td>-43.557242</td>\n",
       "      <td>-73.216718</td>\n",
       "      <td>-13.434066</td>\n",
       "      <td>...</td>\n",
       "      <td>-34.830382</td>\n",
       "      <td>-10.933144</td>\n",
       "      <td>-44.807735</td>\n",
       "      <td>-2.836627</td>\n",
       "      <td>-10.295397</td>\n",
       "      <td>-2.604551</td>\n",
       "      <td>-22.565679</td>\n",
       "      <td>-15.430084</td>\n",
       "      <td>0.000000</td>\n",
       "      <td>0.000000</td>\n",
       "    </tr>\n",
       "    <tr>\n",
       "      <th>25%</th>\n",
       "      <td>54204.750000</td>\n",
       "      <td>-0.915951</td>\n",
       "      <td>-0.600321</td>\n",
       "      <td>-0.889682</td>\n",
       "      <td>-0.850134</td>\n",
       "      <td>-0.689830</td>\n",
       "      <td>-0.769031</td>\n",
       "      <td>-0.552509</td>\n",
       "      <td>-0.208828</td>\n",
       "      <td>-0.644221</td>\n",
       "      <td>...</td>\n",
       "      <td>-0.228305</td>\n",
       "      <td>-0.542700</td>\n",
       "      <td>-0.161703</td>\n",
       "      <td>-0.354453</td>\n",
       "      <td>-0.317485</td>\n",
       "      <td>-0.326763</td>\n",
       "      <td>-0.070641</td>\n",
       "      <td>-0.052818</td>\n",
       "      <td>5.600000</td>\n",
       "      <td>0.000000</td>\n",
       "    </tr>\n",
       "    <tr>\n",
       "      <th>50%</th>\n",
       "      <td>84692.500000</td>\n",
       "      <td>0.020384</td>\n",
       "      <td>0.063949</td>\n",
       "      <td>0.179963</td>\n",
       "      <td>-0.022248</td>\n",
       "      <td>-0.053468</td>\n",
       "      <td>-0.275168</td>\n",
       "      <td>0.040859</td>\n",
       "      <td>0.021898</td>\n",
       "      <td>-0.052596</td>\n",
       "      <td>...</td>\n",
       "      <td>-0.029441</td>\n",
       "      <td>0.006675</td>\n",
       "      <td>-0.011159</td>\n",
       "      <td>0.041016</td>\n",
       "      <td>0.016278</td>\n",
       "      <td>-0.052172</td>\n",
       "      <td>0.001479</td>\n",
       "      <td>0.011288</td>\n",
       "      <td>22.000000</td>\n",
       "      <td>0.000000</td>\n",
       "    </tr>\n",
       "    <tr>\n",
       "      <th>75%</th>\n",
       "      <td>139298.000000</td>\n",
       "      <td>1.316068</td>\n",
       "      <td>0.800283</td>\n",
       "      <td>1.026960</td>\n",
       "      <td>0.739647</td>\n",
       "      <td>0.612218</td>\n",
       "      <td>0.396792</td>\n",
       "      <td>0.570474</td>\n",
       "      <td>0.325704</td>\n",
       "      <td>0.595977</td>\n",
       "      <td>...</td>\n",
       "      <td>0.186194</td>\n",
       "      <td>0.528245</td>\n",
       "      <td>0.147748</td>\n",
       "      <td>0.439738</td>\n",
       "      <td>0.350667</td>\n",
       "      <td>0.240261</td>\n",
       "      <td>0.091208</td>\n",
       "      <td>0.078276</td>\n",
       "      <td>77.510000</td>\n",
       "      <td>0.000000</td>\n",
       "    </tr>\n",
       "    <tr>\n",
       "      <th>max</th>\n",
       "      <td>172792.000000</td>\n",
       "      <td>2.454930</td>\n",
       "      <td>22.057729</td>\n",
       "      <td>9.382558</td>\n",
       "      <td>16.875344</td>\n",
       "      <td>34.801666</td>\n",
       "      <td>73.301626</td>\n",
       "      <td>120.589494</td>\n",
       "      <td>20.007208</td>\n",
       "      <td>15.594995</td>\n",
       "      <td>...</td>\n",
       "      <td>27.202839</td>\n",
       "      <td>10.503090</td>\n",
       "      <td>22.528412</td>\n",
       "      <td>4.584549</td>\n",
       "      <td>7.519589</td>\n",
       "      <td>3.517346</td>\n",
       "      <td>31.612198</td>\n",
       "      <td>33.847808</td>\n",
       "      <td>25691.160000</td>\n",
       "      <td>1.000000</td>\n",
       "    </tr>\n",
       "  </tbody>\n",
       "</table>\n",
       "<p>8 rows × 31 columns</p>\n",
       "</div>"
      ],
      "text/plain": [
       "                Time             V1             V2             V3  \\\n",
       "count  283726.000000  283726.000000  283726.000000  283726.000000   \n",
       "mean    94811.077600       0.005917      -0.004135       0.001613   \n",
       "std     47481.047891       1.948026       1.646703       1.508682   \n",
       "min         0.000000     -56.407510     -72.715728     -48.325589   \n",
       "25%     54204.750000      -0.915951      -0.600321      -0.889682   \n",
       "50%     84692.500000       0.020384       0.063949       0.179963   \n",
       "75%    139298.000000       1.316068       0.800283       1.026960   \n",
       "max    172792.000000       2.454930      22.057729       9.382558   \n",
       "\n",
       "                  V4             V5             V6             V7  \\\n",
       "count  283726.000000  283726.000000  283726.000000  283726.000000   \n",
       "mean       -0.002966       0.001828      -0.001139       0.001801   \n",
       "std         1.414184       1.377008       1.331931       1.227664   \n",
       "min        -5.683171    -113.743307     -26.160506     -43.557242   \n",
       "25%        -0.850134      -0.689830      -0.769031      -0.552509   \n",
       "50%        -0.022248      -0.053468      -0.275168       0.040859   \n",
       "75%         0.739647       0.612218       0.396792       0.570474   \n",
       "max        16.875344      34.801666      73.301626     120.589494   \n",
       "\n",
       "                  V8             V9  ...            V21            V22  \\\n",
       "count  283726.000000  283726.000000  ...  283726.000000  283726.000000   \n",
       "mean       -0.000854      -0.001596  ...      -0.000371      -0.000015   \n",
       "std         1.179054       1.095492  ...       0.723909       0.724550   \n",
       "min       -73.216718     -13.434066  ...     -34.830382     -10.933144   \n",
       "25%        -0.208828      -0.644221  ...      -0.228305      -0.542700   \n",
       "50%         0.021898      -0.052596  ...      -0.029441       0.006675   \n",
       "75%         0.325704       0.595977  ...       0.186194       0.528245   \n",
       "max        20.007208      15.594995  ...      27.202839      10.503090   \n",
       "\n",
       "                 V23            V24            V25            V26  \\\n",
       "count  283726.000000  283726.000000  283726.000000  283726.000000   \n",
       "mean        0.000198       0.000214      -0.000232       0.000149   \n",
       "std         0.623702       0.605627       0.521220       0.482053   \n",
       "min       -44.807735      -2.836627     -10.295397      -2.604551   \n",
       "25%        -0.161703      -0.354453      -0.317485      -0.326763   \n",
       "50%        -0.011159       0.041016       0.016278      -0.052172   \n",
       "75%         0.147748       0.439738       0.350667       0.240261   \n",
       "max        22.528412       4.584549       7.519589       3.517346   \n",
       "\n",
       "                 V27            V28         Amount          Class  \n",
       "count  283726.000000  283726.000000  283726.000000  283726.000000  \n",
       "mean        0.001763       0.000547      88.472687       0.001667  \n",
       "std         0.395744       0.328027     250.399437       0.040796  \n",
       "min       -22.565679     -15.430084       0.000000       0.000000  \n",
       "25%        -0.070641      -0.052818       5.600000       0.000000  \n",
       "50%         0.001479       0.011288      22.000000       0.000000  \n",
       "75%         0.091208       0.078276      77.510000       0.000000  \n",
       "max        31.612198      33.847808   25691.160000       1.000000  \n",
       "\n",
       "[8 rows x 31 columns]"
      ]
     },
     "execution_count": 24,
     "metadata": {},
     "output_type": "execute_result"
    }
   ],
   "source": [
    "print('Статистики генеральной выборки')\n",
    "df.describe()"
   ]
  },
  {
   "cell_type": "code",
   "execution_count": 25,
   "metadata": {
    "colab": {
     "base_uri": "https://localhost:8080/",
     "height": 318
    },
    "id": "aLmVxqVhiLXK",
    "outputId": "22eef719-afe8-4ac3-a220-56241147492e"
   },
   "outputs": [
    {
     "name": "stdout",
     "output_type": "stream",
     "text": [
      "Статистики обучающей выборки\n"
     ]
    },
    {
     "data": {
      "text/html": [
       "<div>\n",
       "<style scoped>\n",
       "    .dataframe tbody tr th:only-of-type {\n",
       "        vertical-align: middle;\n",
       "    }\n",
       "\n",
       "    .dataframe tbody tr th {\n",
       "        vertical-align: top;\n",
       "    }\n",
       "\n",
       "    .dataframe thead th {\n",
       "        text-align: right;\n",
       "    }\n",
       "</style>\n",
       "<table border=\"1\" class=\"dataframe\">\n",
       "  <thead>\n",
       "    <tr style=\"text-align: right;\">\n",
       "      <th></th>\n",
       "      <th>Time</th>\n",
       "      <th>V1</th>\n",
       "      <th>V2</th>\n",
       "      <th>V3</th>\n",
       "      <th>V4</th>\n",
       "      <th>V5</th>\n",
       "      <th>V6</th>\n",
       "      <th>V7</th>\n",
       "      <th>V8</th>\n",
       "      <th>V9</th>\n",
       "      <th>...</th>\n",
       "      <th>V20</th>\n",
       "      <th>V21</th>\n",
       "      <th>V22</th>\n",
       "      <th>V23</th>\n",
       "      <th>V24</th>\n",
       "      <th>V25</th>\n",
       "      <th>V26</th>\n",
       "      <th>V27</th>\n",
       "      <th>V28</th>\n",
       "      <th>Amount</th>\n",
       "    </tr>\n",
       "  </thead>\n",
       "  <tbody>\n",
       "    <tr>\n",
       "      <th>count</th>\n",
       "      <td>756.000000</td>\n",
       "      <td>756.000000</td>\n",
       "      <td>756.000000</td>\n",
       "      <td>756.000000</td>\n",
       "      <td>756.000000</td>\n",
       "      <td>756.000000</td>\n",
       "      <td>756.000000</td>\n",
       "      <td>756.000000</td>\n",
       "      <td>756.000000</td>\n",
       "      <td>756.000000</td>\n",
       "      <td>...</td>\n",
       "      <td>756.000000</td>\n",
       "      <td>756.000000</td>\n",
       "      <td>756.000000</td>\n",
       "      <td>756.000000</td>\n",
       "      <td>756.000000</td>\n",
       "      <td>756.000000</td>\n",
       "      <td>756.000000</td>\n",
       "      <td>756.000000</td>\n",
       "      <td>756.000000</td>\n",
       "      <td>756.000000</td>\n",
       "    </tr>\n",
       "    <tr>\n",
       "      <th>mean</th>\n",
       "      <td>-0.124708</td>\n",
       "      <td>-0.835857</td>\n",
       "      <td>1.140534</td>\n",
       "      <td>-2.619110</td>\n",
       "      <td>1.869585</td>\n",
       "      <td>-0.966906</td>\n",
       "      <td>-0.819037</td>\n",
       "      <td>-2.041530</td>\n",
       "      <td>0.304953</td>\n",
       "      <td>-1.031922</td>\n",
       "      <td>...</td>\n",
       "      <td>0.266805</td>\n",
       "      <td>0.274617</td>\n",
       "      <td>-0.110184</td>\n",
       "      <td>-0.112548</td>\n",
       "      <td>-0.127928</td>\n",
       "      <td>0.284836</td>\n",
       "      <td>-0.061066</td>\n",
       "      <td>0.279073</td>\n",
       "      <td>0.156952</td>\n",
       "      <td>0.015967</td>\n",
       "    </tr>\n",
       "    <tr>\n",
       "      <th>std</th>\n",
       "      <td>1.013550</td>\n",
       "      <td>2.894075</td>\n",
       "      <td>2.107022</td>\n",
       "      <td>3.809075</td>\n",
       "      <td>1.962862</td>\n",
       "      <td>2.979534</td>\n",
       "      <td>0.978886</td>\n",
       "      <td>4.637969</td>\n",
       "      <td>3.566378</td>\n",
       "      <td>2.081394</td>\n",
       "      <td>...</td>\n",
       "      <td>1.303187</td>\n",
       "      <td>2.921663</td>\n",
       "      <td>1.266224</td>\n",
       "      <td>1.880761</td>\n",
       "      <td>0.709995</td>\n",
       "      <td>1.224827</td>\n",
       "      <td>0.789811</td>\n",
       "      <td>2.306556</td>\n",
       "      <td>1.182131</td>\n",
       "      <td>0.784630</td>\n",
       "    </tr>\n",
       "    <tr>\n",
       "      <th>min</th>\n",
       "      <td>-1.986337</td>\n",
       "      <td>-15.819324</td>\n",
       "      <td>-5.169416</td>\n",
       "      <td>-20.674019</td>\n",
       "      <td>-0.885658</td>\n",
       "      <td>-16.076036</td>\n",
       "      <td>-4.338928</td>\n",
       "      <td>-35.541669</td>\n",
       "      <td>-34.922043</td>\n",
       "      <td>-12.251695</td>\n",
       "      <td>...</td>\n",
       "      <td>-5.432960</td>\n",
       "      <td>-31.603738</td>\n",
       "      <td>-12.286493</td>\n",
       "      <td>-31.193781</td>\n",
       "      <td>-3.350994</td>\n",
       "      <td>-9.189338</td>\n",
       "      <td>-2.330839</td>\n",
       "      <td>-18.344353</td>\n",
       "      <td>-5.668148</td>\n",
       "      <td>-0.357167</td>\n",
       "    </tr>\n",
       "    <tr>\n",
       "      <th>25%</th>\n",
       "      <td>-1.004274</td>\n",
       "      <td>-1.230309</td>\n",
       "      <td>0.000145</td>\n",
       "      <td>-3.371440</td>\n",
       "      <td>0.479328</td>\n",
       "      <td>-0.947455</td>\n",
       "      <td>-1.064084</td>\n",
       "      <td>-2.441161</td>\n",
       "      <td>-0.210731</td>\n",
       "      <td>-1.928047</td>\n",
       "      <td>...</td>\n",
       "      <td>-0.196473</td>\n",
       "      <td>-0.209253</td>\n",
       "      <td>-0.661655</td>\n",
       "      <td>-0.291524</td>\n",
       "      <td>-0.489506</td>\n",
       "      <td>-0.187432</td>\n",
       "      <td>-0.611288</td>\n",
       "      <td>-0.065772</td>\n",
       "      <td>-0.021605</td>\n",
       "      <td>-0.353122</td>\n",
       "    </tr>\n",
       "    <tr>\n",
       "      <th>50%</th>\n",
       "      <td>-0.339926</td>\n",
       "      <td>0.577799</td>\n",
       "      <td>0.375557</td>\n",
       "      <td>-1.261182</td>\n",
       "      <td>0.883387</td>\n",
       "      <td>0.092314</td>\n",
       "      <td>-0.616307</td>\n",
       "      <td>0.082745</td>\n",
       "      <td>-0.020679</td>\n",
       "      <td>-0.311733</td>\n",
       "      <td>...</td>\n",
       "      <td>-0.000525</td>\n",
       "      <td>-0.032004</td>\n",
       "      <td>-0.251200</td>\n",
       "      <td>-0.102998</td>\n",
       "      <td>-0.120500</td>\n",
       "      <td>0.297807</td>\n",
       "      <td>-0.237019</td>\n",
       "      <td>0.069659</td>\n",
       "      <td>0.099020</td>\n",
       "      <td>-0.324204</td>\n",
       "    </tr>\n",
       "    <tr>\n",
       "      <th>75%</th>\n",
       "      <td>0.877184</td>\n",
       "      <td>0.726631</td>\n",
       "      <td>1.669552</td>\n",
       "      <td>-0.342661</td>\n",
       "      <td>2.902199</td>\n",
       "      <td>0.304117</td>\n",
       "      <td>-0.354895</td>\n",
       "      <td>0.215249</td>\n",
       "      <td>0.535563</td>\n",
       "      <td>0.565839</td>\n",
       "      <td>...</td>\n",
       "      <td>0.465519</td>\n",
       "      <td>0.804944</td>\n",
       "      <td>0.189303</td>\n",
       "      <td>0.183171</td>\n",
       "      <td>0.324760</td>\n",
       "      <td>1.038033</td>\n",
       "      <td>0.484694</td>\n",
       "      <td>1.041620</td>\n",
       "      <td>0.475146</td>\n",
       "      <td>0.071561</td>\n",
       "    </tr>\n",
       "    <tr>\n",
       "      <th>max</th>\n",
       "      <td>1.641938</td>\n",
       "      <td>1.099553</td>\n",
       "      <td>13.576485</td>\n",
       "      <td>1.492310</td>\n",
       "      <td>8.589412</td>\n",
       "      <td>8.068148</td>\n",
       "      <td>4.864446</td>\n",
       "      <td>4.734040</td>\n",
       "      <td>17.022103</td>\n",
       "      <td>3.061430</td>\n",
       "      <td>...</td>\n",
       "      <td>14.550641</td>\n",
       "      <td>37.712370</td>\n",
       "      <td>11.562723</td>\n",
       "      <td>8.854675</td>\n",
       "      <td>1.802015</td>\n",
       "      <td>4.244219</td>\n",
       "      <td>5.688390</td>\n",
       "      <td>7.704981</td>\n",
       "      <td>5.389482</td>\n",
       "      <td>8.240935</td>\n",
       "    </tr>\n",
       "  </tbody>\n",
       "</table>\n",
       "<p>8 rows × 30 columns</p>\n",
       "</div>"
      ],
      "text/plain": [
       "             Time          V1          V2          V3          V4          V5  \\\n",
       "count  756.000000  756.000000  756.000000  756.000000  756.000000  756.000000   \n",
       "mean    -0.124708   -0.835857    1.140534   -2.619110    1.869585   -0.966906   \n",
       "std      1.013550    2.894075    2.107022    3.809075    1.962862    2.979534   \n",
       "min     -1.986337  -15.819324   -5.169416  -20.674019   -0.885658  -16.076036   \n",
       "25%     -1.004274   -1.230309    0.000145   -3.371440    0.479328   -0.947455   \n",
       "50%     -0.339926    0.577799    0.375557   -1.261182    0.883387    0.092314   \n",
       "75%      0.877184    0.726631    1.669552   -0.342661    2.902199    0.304117   \n",
       "max      1.641938    1.099553   13.576485    1.492310    8.589412    8.068148   \n",
       "\n",
       "               V6          V7          V8          V9  ...         V20  \\\n",
       "count  756.000000  756.000000  756.000000  756.000000  ...  756.000000   \n",
       "mean    -0.819037   -2.041530    0.304953   -1.031922  ...    0.266805   \n",
       "std      0.978886    4.637969    3.566378    2.081394  ...    1.303187   \n",
       "min     -4.338928  -35.541669  -34.922043  -12.251695  ...   -5.432960   \n",
       "25%     -1.064084   -2.441161   -0.210731   -1.928047  ...   -0.196473   \n",
       "50%     -0.616307    0.082745   -0.020679   -0.311733  ...   -0.000525   \n",
       "75%     -0.354895    0.215249    0.535563    0.565839  ...    0.465519   \n",
       "max      4.864446    4.734040   17.022103    3.061430  ...   14.550641   \n",
       "\n",
       "              V21         V22         V23         V24         V25         V26  \\\n",
       "count  756.000000  756.000000  756.000000  756.000000  756.000000  756.000000   \n",
       "mean     0.274617   -0.110184   -0.112548   -0.127928    0.284836   -0.061066   \n",
       "std      2.921663    1.266224    1.880761    0.709995    1.224827    0.789811   \n",
       "min    -31.603738  -12.286493  -31.193781   -3.350994   -9.189338   -2.330839   \n",
       "25%     -0.209253   -0.661655   -0.291524   -0.489506   -0.187432   -0.611288   \n",
       "50%     -0.032004   -0.251200   -0.102998   -0.120500    0.297807   -0.237019   \n",
       "75%      0.804944    0.189303    0.183171    0.324760    1.038033    0.484694   \n",
       "max     37.712370   11.562723    8.854675    1.802015    4.244219    5.688390   \n",
       "\n",
       "              V27         V28      Amount  \n",
       "count  756.000000  756.000000  756.000000  \n",
       "mean     0.279073    0.156952    0.015967  \n",
       "std      2.306556    1.182131    0.784630  \n",
       "min    -18.344353   -5.668148   -0.357167  \n",
       "25%     -0.065772   -0.021605   -0.353122  \n",
       "50%      0.069659    0.099020   -0.324204  \n",
       "75%      1.041620    0.475146    0.071561  \n",
       "max      7.704981    5.389482    8.240935  \n",
       "\n",
       "[8 rows x 30 columns]"
      ]
     },
     "execution_count": 25,
     "metadata": {},
     "output_type": "execute_result"
    }
   ],
   "source": [
    "print('Статистики обучающей выборки')\n",
    "x.describe()"
   ]
  },
  {
   "cell_type": "code",
   "execution_count": 26,
   "metadata": {
    "colab": {
     "base_uri": "https://localhost:8080/"
    },
    "id": "bCxfFGHFidXb",
    "outputId": "7bd886e9-a2d6-472c-944f-b3a561d77f9c"
   },
   "outputs": [
    {
     "data": {
      "text/plain": [
       "count    756.000000\n",
       "mean       0.500000\n",
       "std        0.500331\n",
       "min        0.000000\n",
       "25%        0.000000\n",
       "50%        0.500000\n",
       "75%        1.000000\n",
       "max        1.000000\n",
       "Name: Class, dtype: float64"
      ]
     },
     "execution_count": 26,
     "metadata": {},
     "output_type": "execute_result"
    }
   ],
   "source": [
    "y.describe()"
   ]
  },
  {
   "cell_type": "code",
   "execution_count": 27,
   "metadata": {
    "colab": {
     "base_uri": "https://localhost:8080/",
     "height": 318
    },
    "id": "ssZ525h_iNMc",
    "outputId": "4a0f692d-32a4-4053-9357-f4e55191f91d"
   },
   "outputs": [
    {
     "name": "stdout",
     "output_type": "stream",
     "text": [
      "Статистики тестовой выборки\n"
     ]
    }
   ],
   "source": [
    "print('Статистики тестовой выборки')\n",
    "x_test_ss.describe()\n",
    "x1=x_test_ss.describe()"
   ]
  },
  {
   "cell_type": "code",
   "execution_count": 28,
   "metadata": {
    "colab": {
     "base_uri": "https://localhost:8080/"
    },
    "id": "X07feIvHjUxU",
    "outputId": "ad4a4d7f-3f9a-4870-d387-3e38995c1969"
   },
   "outputs": [
    {
     "data": {
      "text/plain": [
       "count    56746.000000\n",
       "mean         0.001674\n",
       "std          0.040882\n",
       "min          0.000000\n",
       "25%          0.000000\n",
       "50%          0.000000\n",
       "75%          0.000000\n",
       "max          1.000000\n",
       "Name: Class, dtype: float64"
      ]
     },
     "execution_count": 28,
     "metadata": {},
     "output_type": "execute_result"
    }
   ],
   "source": [
    "y_test.describe()"
   ]
  },
  {
   "cell_type": "markdown",
   "metadata": {
    "id": "6Vi3bB_qmu9X"
   },
   "source": [
    "Проведем обучение моделей catboost, knn и decision tree на сбалансированной выборке, в качестве метрик точности будем использовать precision,recall и f1 меру, также выведем confusion matrix"
   ]
  },
  {
   "cell_type": "code",
   "execution_count": 29,
   "metadata": {
    "colab": {
     "base_uri": "https://localhost:8080/"
    },
    "id": "8lCBABqLnKVl",
    "outputId": "1e7cc98f-1998-4935-e17f-4e6218c3bc82"
   },
   "outputs": [
    {
     "data": {
      "text/plain": [
       "(0.0017662917170214744,\n",
       " 1.0,\n",
       " 0.0035263548626577575,\n",
       " array([[ 2961, 53690],\n",
       "        [    0,    95]]))"
      ]
     },
     "execution_count": 29,
     "metadata": {},
     "output_type": "execute_result"
    }
   ],
   "source": [
    "from catboost import CatBoostClassifier\n",
    "cb = CatBoostClassifier(verbose=False)\n",
    "cb.fit(x, y)\n",
    "y_pred = cb.predict(x_test_ss)\n",
    "from sklearn.metrics import confusion_matrix, precision_score, recall_score, f1_score\n",
    "precision_score(y_test, y_pred), recall_score(y_test, y_pred), f1_score(y_test,y_pred),confusion_matrix(y_test,y_pred)"
   ]
  },
  {
   "cell_type": "code",
   "execution_count": 30,
   "metadata": {
    "colab": {
     "base_uri": "https://localhost:8080/"
    },
    "id": "L-kX_rURoDHL",
    "outputId": "8cda8687-2c6c-409d-d119-d9e1e208c083"
   },
   "outputs": [
    {
     "data": {
      "text/plain": [
       "(0.008616516603737051,\n",
       " 0.9368421052631579,\n",
       " 0.017075978511128166,\n",
       " array([[46411, 10240],\n",
       "        [    6,    89]]))"
      ]
     },
     "execution_count": 30,
     "metadata": {},
     "output_type": "execute_result"
    }
   ],
   "source": [
    "from sklearn.neighbors import KNeighborsClassifier\n",
    "knn_model = KNeighborsClassifier()\n",
    "knn_model.fit(x, y);\n",
    "knn_y_pred = knn_model.predict(x_test_ss)\n",
    "precision_score(y_test, knn_y_pred), recall_score(y_test, knn_y_pred), f1_score(y_test,knn_y_pred),confusion_matrix(y_test,knn_y_pred)"
   ]
  },
  {
   "cell_type": "code",
   "execution_count": 31,
   "metadata": {
    "colab": {
     "base_uri": "https://localhost:8080/"
    },
    "id": "iv18jkM4vR5P",
    "outputId": "7b3e0ad2-50bd-4cd7-968a-e50e32c95393"
   },
   "outputs": [
    {
     "data": {
      "text/plain": [
       "(0.0018552875695732839,\n",
       " 0.9578947368421052,\n",
       " 0.0037034022464593848,\n",
       " array([[ 7693, 48958],\n",
       "        [    4,    91]]))"
      ]
     },
     "execution_count": 31,
     "metadata": {},
     "output_type": "execute_result"
    }
   ],
   "source": [
    "from sklearn.tree import DecisionTreeClassifier\n",
    "model = DecisionTreeClassifier(max_depth=3)\n",
    "model.fit(x, y)\n",
    "tree_y_pred = model.predict(x_test_ss)\n",
    "precision_score(y_test, tree_y_pred), recall_score(y_test, tree_y_pred), f1_score(y_test,tree_y_pred),confusion_matrix(y_test,tree_y_pred)"
   ]
  },
  {
   "cell_type": "markdown",
   "metadata": {},
   "source": [
    "Результаты получились крайне неудовлетворительны, попробуем сделать оверсэмплинг методом SMOTE(Synthetic Minority Over-sampling Technique)"
   ]
  },
  {
   "cell_type": "code",
   "execution_count": 32,
   "metadata": {},
   "outputs": [
    {
     "name": "stdout",
     "output_type": "stream",
     "text": [
      "Вхождение данных разных классов в сбалансированную выборку\n",
      "Class\n",
      "0    226602\n",
      "1    226602\n",
      "Name: count, dtype: int64\n"
     ]
    }
   ],
   "source": [
    "from imblearn.over_sampling import SMOTE\n",
    "\n",
    "\n",
    "sm = SMOTE(random_state=42)\n",
    "\n",
    "\n",
    "x_train_res,y_train_res = sm.fit_resample(x_train_ss, y_train)\n",
    "print('Вхождение данных разных классов в сбалансированную выборку')\n",
    "print( y_train_res.value_counts())"
   ]
  },
  {
   "cell_type": "code",
   "execution_count": 33,
   "metadata": {},
   "outputs": [
    {
     "data": {
      "text/plain": [
       "(0.5220125786163522,\n",
       " 0.8736842105263158,\n",
       " 0.6535433070866141,\n",
       " array([[56575,    76],\n",
       "        [   12,    83]]))"
      ]
     },
     "execution_count": 33,
     "metadata": {},
     "output_type": "execute_result"
    }
   ],
   "source": [
    "cb.fit(x_train_res, y_train_res)\n",
    "y_pred1 = cb.predict(x_test_ss)\n",
    "precision_score(y_test, y_pred1), recall_score(y_test, y_pred1), f1_score(y_test,y_pred1),confusion_matrix(y_test,y_pred1)"
   ]
  },
  {
   "cell_type": "code",
   "execution_count": 34,
   "metadata": {},
   "outputs": [
    {
     "data": {
      "text/plain": [
       "(0.46511627906976744,\n",
       " 0.8421052631578947,\n",
       " 0.599250936329588,\n",
       " array([[56559,    92],\n",
       "        [   15,    80]]))"
      ]
     },
     "execution_count": 34,
     "metadata": {},
     "output_type": "execute_result"
    }
   ],
   "source": [
    "knn_model.fit(x_train_res, y_train_res);\n",
    "knn_y_pred1 = knn_model.predict(x_test_ss)\n",
    "precision_score(y_test, knn_y_pred1), recall_score(y_test, knn_y_pred1), f1_score(y_test,knn_y_pred1),confusion_matrix(y_test,knn_y_pred1)"
   ]
  },
  {
   "cell_type": "code",
   "execution_count": 35,
   "metadata": {},
   "outputs": [
    {
     "data": {
      "text/plain": [
       "(0.01816283924843424,\n",
       " 0.9157894736842105,\n",
       " 0.035619242579324466,\n",
       " array([[51948,  4703],\n",
       "        [    8,    87]]))"
      ]
     },
     "execution_count": 35,
     "metadata": {},
     "output_type": "execute_result"
    }
   ],
   "source": [
    "model.fit(x_train_res, y_train_res)\n",
    "tree_y_pred1 = model.predict(x_test_ss)\n",
    "precision_score(y_test, tree_y_pred1), recall_score(y_test, tree_y_pred1), f1_score(y_test,tree_y_pred1),confusion_matrix(y_test,tree_y_pred1)"
   ]
  },
  {
   "cell_type": "markdown",
   "metadata": {},
   "source": [
    "Наилучший результат показала модель catboost, однако результаты нельзя назвать удовлетворительными, очевидно, в данной задаче сэмплирование было применять нерационально"
   ]
  },
  {
   "cell_type": "markdown",
   "metadata": {},
   "source": [
    "Проверим, не внесли ли мы дисперсию в данные при сэмплировании"
   ]
  },
  {
   "cell_type": "code",
   "execution_count": 36,
   "metadata": {},
   "outputs": [
    {
     "data": {
      "text/html": [
       "<div>\n",
       "<style scoped>\n",
       "    .dataframe tbody tr th:only-of-type {\n",
       "        vertical-align: middle;\n",
       "    }\n",
       "\n",
       "    .dataframe tbody tr th {\n",
       "        vertical-align: top;\n",
       "    }\n",
       "\n",
       "    .dataframe thead th {\n",
       "        text-align: right;\n",
       "    }\n",
       "</style>\n",
       "<table border=\"1\" class=\"dataframe\">\n",
       "  <thead>\n",
       "    <tr style=\"text-align: right;\">\n",
       "      <th></th>\n",
       "      <th>Time</th>\n",
       "      <th>V1</th>\n",
       "      <th>V2</th>\n",
       "      <th>V3</th>\n",
       "      <th>V4</th>\n",
       "      <th>V5</th>\n",
       "      <th>V6</th>\n",
       "      <th>V7</th>\n",
       "      <th>V8</th>\n",
       "      <th>V9</th>\n",
       "      <th>...</th>\n",
       "      <th>V20</th>\n",
       "      <th>V21</th>\n",
       "      <th>V22</th>\n",
       "      <th>V23</th>\n",
       "      <th>V24</th>\n",
       "      <th>V25</th>\n",
       "      <th>V26</th>\n",
       "      <th>V27</th>\n",
       "      <th>V28</th>\n",
       "      <th>Amount</th>\n",
       "    </tr>\n",
       "  </thead>\n",
       "  <tbody>\n",
       "    <tr>\n",
       "      <th>count</th>\n",
       "      <td>226972.000000</td>\n",
       "      <td>226972.000000</td>\n",
       "      <td>226972.000000</td>\n",
       "      <td>226972.000000</td>\n",
       "      <td>226972.000000</td>\n",
       "      <td>226972.000000</td>\n",
       "      <td>226972.000000</td>\n",
       "      <td>226972.000000</td>\n",
       "      <td>226972.000000</td>\n",
       "      <td>226972.000000</td>\n",
       "      <td>...</td>\n",
       "      <td>226972.000000</td>\n",
       "      <td>226972.000000</td>\n",
       "      <td>226972.000000</td>\n",
       "      <td>226972.000000</td>\n",
       "      <td>226972.000000</td>\n",
       "      <td>226972.000000</td>\n",
       "      <td>226972.000000</td>\n",
       "      <td>226972.000000</td>\n",
       "      <td>226972.000000</td>\n",
       "      <td>226972.000000</td>\n",
       "    </tr>\n",
       "    <tr>\n",
       "      <th>mean</th>\n",
       "      <td>7093.316916</td>\n",
       "      <td>7090.849522</td>\n",
       "      <td>7089.985513</td>\n",
       "      <td>7090.940175</td>\n",
       "      <td>7094.386909</td>\n",
       "      <td>7092.681915</td>\n",
       "      <td>7093.499343</td>\n",
       "      <td>7094.999221</td>\n",
       "      <td>7090.065940</td>\n",
       "      <td>7093.324375</td>\n",
       "      <td>...</td>\n",
       "      <td>7096.229892</td>\n",
       "      <td>7093.314015</td>\n",
       "      <td>7092.741222</td>\n",
       "      <td>7090.940325</td>\n",
       "      <td>7093.643151</td>\n",
       "      <td>7092.698529</td>\n",
       "      <td>7093.576270</td>\n",
       "      <td>7093.907860</td>\n",
       "      <td>7096.112766</td>\n",
       "      <td>7103.150796</td>\n",
       "    </tr>\n",
       "    <tr>\n",
       "      <th>std</th>\n",
       "      <td>20061.713695</td>\n",
       "      <td>20062.712142</td>\n",
       "      <td>20063.065303</td>\n",
       "      <td>20062.675654</td>\n",
       "      <td>20061.281833</td>\n",
       "      <td>20061.975353</td>\n",
       "      <td>20061.642071</td>\n",
       "      <td>20061.040302</td>\n",
       "      <td>20063.034427</td>\n",
       "      <td>20061.711166</td>\n",
       "      <td>...</td>\n",
       "      <td>20060.548911</td>\n",
       "      <td>20061.721915</td>\n",
       "      <td>20061.947448</td>\n",
       "      <td>20062.687895</td>\n",
       "      <td>20061.582078</td>\n",
       "      <td>20061.964966</td>\n",
       "      <td>20061.609152</td>\n",
       "      <td>20061.479155</td>\n",
       "      <td>20060.594017</td>\n",
       "      <td>20057.759293</td>\n",
       "    </tr>\n",
       "    <tr>\n",
       "      <th>min</th>\n",
       "      <td>0.000042</td>\n",
       "      <td>7.494762</td>\n",
       "      <td>5.767205</td>\n",
       "      <td>9.732511</td>\n",
       "      <td>0.305917</td>\n",
       "      <td>53.316619</td>\n",
       "      <td>3.179577</td>\n",
       "      <td>12.518596</td>\n",
       "      <td>19.395952</td>\n",
       "      <td>3.605449</td>\n",
       "      <td>...</td>\n",
       "      <td>42.807321</td>\n",
       "      <td>16.553975</td>\n",
       "      <td>1.982324</td>\n",
       "      <td>19.406117</td>\n",
       "      <td>0.023033</td>\n",
       "      <td>3.072638</td>\n",
       "      <td>0.145554</td>\n",
       "      <td>34.660378</td>\n",
       "      <td>21.232549</td>\n",
       "      <td>0.000000</td>\n",
       "    </tr>\n",
       "    <tr>\n",
       "      <th>25%</th>\n",
       "      <td>0.489498</td>\n",
       "      <td>0.353721</td>\n",
       "      <td>0.273434</td>\n",
       "      <td>0.431812</td>\n",
       "      <td>0.450203</td>\n",
       "      <td>0.350122</td>\n",
       "      <td>0.274566</td>\n",
       "      <td>0.341156</td>\n",
       "      <td>0.127524</td>\n",
       "      <td>0.410265</td>\n",
       "      <td>...</td>\n",
       "      <td>0.147353</td>\n",
       "      <td>0.208334</td>\n",
       "      <td>0.566126</td>\n",
       "      <td>0.182758</td>\n",
       "      <td>0.437344</td>\n",
       "      <td>0.455231</td>\n",
       "      <td>0.424353</td>\n",
       "      <td>0.137927</td>\n",
       "      <td>0.116738</td>\n",
       "      <td>0.050041</td>\n",
       "    </tr>\n",
       "    <tr>\n",
       "      <th>50%</th>\n",
       "      <td>0.684906</td>\n",
       "      <td>0.337309</td>\n",
       "      <td>0.228046</td>\n",
       "      <td>0.277078</td>\n",
       "      <td>0.288350</td>\n",
       "      <td>0.265730</td>\n",
       "      <td>0.351206</td>\n",
       "      <td>0.224442</td>\n",
       "      <td>0.126471</td>\n",
       "      <td>0.321424</td>\n",
       "      <td>...</td>\n",
       "      <td>0.168367</td>\n",
       "      <td>0.171682</td>\n",
       "      <td>0.369666</td>\n",
       "      <td>0.137774</td>\n",
       "      <td>0.329540</td>\n",
       "      <td>0.322842</td>\n",
       "      <td>0.351362</td>\n",
       "      <td>0.118172</td>\n",
       "      <td>0.099909</td>\n",
       "      <td>0.247984</td>\n",
       "    </tr>\n",
       "    <tr>\n",
       "      <th>75%</th>\n",
       "      <td>0.221249</td>\n",
       "      <td>0.419768</td>\n",
       "      <td>3.214157</td>\n",
       "      <td>0.760713</td>\n",
       "      <td>3.194596</td>\n",
       "      <td>6.294450</td>\n",
       "      <td>4.948667</td>\n",
       "      <td>9.279664</td>\n",
       "      <td>4.561183</td>\n",
       "      <td>2.280005</td>\n",
       "      <td>...</td>\n",
       "      <td>13.591244</td>\n",
       "      <td>8.333825</td>\n",
       "      <td>2.533114</td>\n",
       "      <td>8.975755</td>\n",
       "      <td>1.677180</td>\n",
       "      <td>2.882939</td>\n",
       "      <td>2.044663</td>\n",
       "      <td>7.153129</td>\n",
       "      <td>12.336295</td>\n",
       "      <td>20.626238</td>\n",
       "    </tr>\n",
       "    <tr>\n",
       "      <th>max</th>\n",
       "      <td>56744.356925</td>\n",
       "      <td>56744.733486</td>\n",
       "      <td>56732.423515</td>\n",
       "      <td>56739.767674</td>\n",
       "      <td>56734.036855</td>\n",
       "      <td>56720.691935</td>\n",
       "      <td>56690.917280</td>\n",
       "      <td>56647.604152</td>\n",
       "      <td>56728.977897</td>\n",
       "      <td>56731.772277</td>\n",
       "      <td>...</td>\n",
       "      <td>56695.845647</td>\n",
       "      <td>56708.287630</td>\n",
       "      <td>56731.476893</td>\n",
       "      <td>56709.503796</td>\n",
       "      <td>56738.427739</td>\n",
       "      <td>56731.547968</td>\n",
       "      <td>56738.711235</td>\n",
       "      <td>56666.176331</td>\n",
       "      <td>56643.423728</td>\n",
       "      <td>56642.449021</td>\n",
       "    </tr>\n",
       "  </tbody>\n",
       "</table>\n",
       "<p>8 rows × 30 columns</p>\n",
       "</div>"
      ],
      "text/plain": [
       "                Time             V1             V2             V3  \\\n",
       "count  226972.000000  226972.000000  226972.000000  226972.000000   \n",
       "mean     7093.316916    7090.849522    7089.985513    7090.940175   \n",
       "std     20061.713695   20062.712142   20063.065303   20062.675654   \n",
       "min         0.000042       7.494762       5.767205       9.732511   \n",
       "25%         0.489498       0.353721       0.273434       0.431812   \n",
       "50%         0.684906       0.337309       0.228046       0.277078   \n",
       "75%         0.221249       0.419768       3.214157       0.760713   \n",
       "max     56744.356925   56744.733486   56732.423515   56739.767674   \n",
       "\n",
       "                  V4             V5             V6             V7  \\\n",
       "count  226972.000000  226972.000000  226972.000000  226972.000000   \n",
       "mean     7094.386909    7092.681915    7093.499343    7094.999221   \n",
       "std     20061.281833   20061.975353   20061.642071   20061.040302   \n",
       "min         0.305917      53.316619       3.179577      12.518596   \n",
       "25%         0.450203       0.350122       0.274566       0.341156   \n",
       "50%         0.288350       0.265730       0.351206       0.224442   \n",
       "75%         3.194596       6.294450       4.948667       9.279664   \n",
       "max     56734.036855   56720.691935   56690.917280   56647.604152   \n",
       "\n",
       "                  V8             V9  ...            V20            V21  \\\n",
       "count  226972.000000  226972.000000  ...  226972.000000  226972.000000   \n",
       "mean     7090.065940    7093.324375  ...    7096.229892    7093.314015   \n",
       "std     20063.034427   20061.711166  ...   20060.548911   20061.721915   \n",
       "min        19.395952       3.605449  ...      42.807321      16.553975   \n",
       "25%         0.127524       0.410265  ...       0.147353       0.208334   \n",
       "50%         0.126471       0.321424  ...       0.168367       0.171682   \n",
       "75%         4.561183       2.280005  ...      13.591244       8.333825   \n",
       "max     56728.977897   56731.772277  ...   56695.845647   56708.287630   \n",
       "\n",
       "                 V22            V23            V24            V25  \\\n",
       "count  226972.000000  226972.000000  226972.000000  226972.000000   \n",
       "mean     7092.741222    7090.940325    7093.643151    7092.698529   \n",
       "std     20061.947448   20062.687895   20061.582078   20061.964966   \n",
       "min         1.982324      19.406117       0.023033       3.072638   \n",
       "25%         0.566126       0.182758       0.437344       0.455231   \n",
       "50%         0.369666       0.137774       0.329540       0.322842   \n",
       "75%         2.533114       8.975755       1.677180       2.882939   \n",
       "max     56731.476893   56709.503796   56738.427739   56731.547968   \n",
       "\n",
       "                 V26            V27            V28         Amount  \n",
       "count  226972.000000  226972.000000  226972.000000  226972.000000  \n",
       "mean     7093.576270    7093.907860    7096.112766    7103.150796  \n",
       "std     20061.609152   20061.479155   20060.594017   20057.759293  \n",
       "min         0.145554      34.660378      21.232549       0.000000  \n",
       "25%         0.424353       0.137927       0.116738       0.050041  \n",
       "50%         0.351362       0.118172       0.099909       0.247984  \n",
       "75%         2.044663       7.153129      12.336295      20.626238  \n",
       "max     56738.711235   56666.176331   56643.423728   56642.449021  \n",
       "\n",
       "[8 rows x 30 columns]"
      ]
     },
     "execution_count": 36,
     "metadata": {},
     "output_type": "execute_result"
    }
   ],
   "source": [
    "abs(x_train_ss.describe()-x1.describe())"
   ]
  },
  {
   "cell_type": "markdown",
   "metadata": {},
   "source": [
    "Видим, что сэмплирование данных внесло большие изменения в данные, можно делать вывод, что при сэмплировании данных значительно изменилось их распределение"
   ]
  },
  {
   "cell_type": "markdown",
   "metadata": {},
   "source": [
    "Воспользуемся методами логистической регрессии и SVM"
   ]
  },
  {
   "cell_type": "code",
   "execution_count": 37,
   "metadata": {},
   "outputs": [
    {
     "data": {
      "text/plain": [
       "(0.8923076923076924,\n",
       " 0.6105263157894737,\n",
       " 0.725,\n",
       " array([[56644,     7],\n",
       "        [   37,    58]]))"
      ]
     },
     "execution_count": 37,
     "metadata": {},
     "output_type": "execute_result"
    }
   ],
   "source": [
    "from sklearn.linear_model import LogisticRegression\n",
    "LR = LogisticRegression()\n",
    "LR.fit(x_train_ss, y_train)\n",
    "LR_pred=LR.predict(x_test_ss)\n",
    "precision_score(y_test, LR_pred), recall_score(y_test, LR_pred), f1_score(y_test,LR_pred),confusion_matrix(y_test,LR_pred)"
   ]
  },
  {
   "cell_type": "code",
   "execution_count": 38,
   "metadata": {},
   "outputs": [],
   "source": [
    "from sklearn import svm\n",
    "clf = svm.SVC(kernel='linear')\n",
    "clf.fit(x_train_ss, y_train)\n",
    "svm_pred = clf.predict(x_test_ss)"
   ]
  },
  {
   "cell_type": "code",
   "execution_count": 39,
   "metadata": {},
   "outputs": [
    {
     "data": {
      "text/plain": [
       "(0.8923076923076924,\n",
       " 0.7894736842105263,\n",
       " 0.8333333333333333,\n",
       " array([[56641,    10],\n",
       "        [   20,    75]]))"
      ]
     },
     "execution_count": 39,
     "metadata": {},
     "output_type": "execute_result"
    }
   ],
   "source": [
    "precision_score(y_test, LR_pred), recall_score(y_test, svm_pred), f1_score(y_test,svm_pred),confusion_matrix(y_test,svm_pred)"
   ]
  },
  {
   "cell_type": "markdown",
   "metadata": {},
   "source": [
    "Сводная таблица"
   ]
  },
  {
   "cell_type": "code",
   "execution_count": 40,
   "metadata": {},
   "outputs": [
    {
     "data": {
      "text/html": [
       "<div>\n",
       "<style scoped>\n",
       "    .dataframe tbody tr th:only-of-type {\n",
       "        vertical-align: middle;\n",
       "    }\n",
       "\n",
       "    .dataframe tbody tr th {\n",
       "        vertical-align: top;\n",
       "    }\n",
       "\n",
       "    .dataframe thead th {\n",
       "        text-align: right;\n",
       "    }\n",
       "</style>\n",
       "<table border=\"1\" class=\"dataframe\">\n",
       "  <thead>\n",
       "    <tr style=\"text-align: right;\">\n",
       "      <th></th>\n",
       "      <th>precision</th>\n",
       "      <th>recall</th>\n",
       "      <th>f1</th>\n",
       "    </tr>\n",
       "  </thead>\n",
       "  <tbody>\n",
       "    <tr>\n",
       "      <th>Catboost NearMiss</th>\n",
       "      <td>0.001766</td>\n",
       "      <td>1.000000</td>\n",
       "      <td>0.003526</td>\n",
       "    </tr>\n",
       "    <tr>\n",
       "      <th>knn NearMiss</th>\n",
       "      <td>0.008617</td>\n",
       "      <td>0.936842</td>\n",
       "      <td>0.017076</td>\n",
       "    </tr>\n",
       "    <tr>\n",
       "      <th>DecisionTree NearMiss</th>\n",
       "      <td>0.001855</td>\n",
       "      <td>0.957895</td>\n",
       "      <td>0.003703</td>\n",
       "    </tr>\n",
       "    <tr>\n",
       "      <th>Logistic Regression</th>\n",
       "      <td>0.892308</td>\n",
       "      <td>0.610526</td>\n",
       "      <td>0.725000</td>\n",
       "    </tr>\n",
       "    <tr>\n",
       "      <th>SVM</th>\n",
       "      <td>0.882353</td>\n",
       "      <td>0.789474</td>\n",
       "      <td>0.833333</td>\n",
       "    </tr>\n",
       "    <tr>\n",
       "      <th>Catboost SMOTE</th>\n",
       "      <td>0.522013</td>\n",
       "      <td>0.873684</td>\n",
       "      <td>0.653543</td>\n",
       "    </tr>\n",
       "    <tr>\n",
       "      <th>knn SMOTE</th>\n",
       "      <td>0.465116</td>\n",
       "      <td>0.842105</td>\n",
       "      <td>0.599251</td>\n",
       "    </tr>\n",
       "    <tr>\n",
       "      <th>DecisionTree SMOTE</th>\n",
       "      <td>0.018163</td>\n",
       "      <td>0.915789</td>\n",
       "      <td>0.035619</td>\n",
       "    </tr>\n",
       "  </tbody>\n",
       "</table>\n",
       "</div>"
      ],
      "text/plain": [
       "                       precision    recall        f1\n",
       "Catboost NearMiss       0.001766  1.000000  0.003526\n",
       "knn NearMiss            0.008617  0.936842  0.017076\n",
       "DecisionTree NearMiss   0.001855  0.957895  0.003703\n",
       "Logistic Regression     0.892308  0.610526  0.725000\n",
       "SVM                     0.882353  0.789474  0.833333\n",
       "Catboost SMOTE          0.522013  0.873684  0.653543\n",
       "knn SMOTE               0.465116  0.842105  0.599251\n",
       "DecisionTree SMOTE      0.018163  0.915789  0.035619"
      ]
     },
     "execution_count": 40,
     "metadata": {},
     "output_type": "execute_result"
    }
   ],
   "source": [
    "metrics_df = pd.DataFrame()\n",
    "metrics_df['precision'] = [precision_score(y_test, y_pred), precision_score(y_test, knn_y_pred),\n",
    "                          precision_score(y_test, tree_y_pred),\n",
    "                          precision_score(y_test, LR_pred), precision_score(y_test, svm_pred),\n",
    "                          precision_score(y_test, y_pred1),precision_score(y_test, knn_y_pred1),\n",
    "                          precision_score(y_test, tree_y_pred1)]\n",
    "\n",
    "metrics_df['recall'] = [recall_score(y_test, y_pred), recall_score(y_test, knn_y_pred),\n",
    "                          recall_score(y_test, tree_y_pred),\n",
    "                          recall_score(y_test, LR_pred), recall_score(y_test, svm_pred),\n",
    "                          recall_score(y_test, y_pred1),recall_score(y_test, knn_y_pred1),\n",
    "                          recall_score(y_test, tree_y_pred1)]\n",
    "\n",
    "metrics_df['f1'] = [f1_score(y_test, y_pred), f1_score(y_test, knn_y_pred),\n",
    "                          f1_score(y_test, tree_y_pred),\n",
    "                          f1_score(y_test, LR_pred), f1_score(y_test, svm_pred),\n",
    "                          f1_score(y_test, y_pred1),f1_score(y_test, knn_y_pred1),\n",
    "                          f1_score(y_test, tree_y_pred1)]\n",
    "\n",
    "metrics_df.index = ['Catboost NearMiss', 'knn NearMiss', 'DecisionTree NearMiss', 'Logistic Regression', 'SVM',\n",
    "                   'Catboost SMOTE','knn SMOTE','DecisionTree SMOTE' ]\n",
    "\n",
    "metrics_df"
   ]
  },
  {
   "cell_type": "markdown",
   "metadata": {},
   "source": [
    "Запуск обученных на сэмплированных данных моделей на исходной выборке"
   ]
  },
  {
   "cell_type": "code",
   "execution_count": 41,
   "metadata": {},
   "outputs": [
    {
     "data": {
      "text/plain": [
       "(0.9197080291970803,\n",
       " 1.0,\n",
       " 0.9581749049429658,\n",
       " array([[345,  33],\n",
       "        [  0, 378]]))"
      ]
     },
     "execution_count": 41,
     "metadata": {},
     "output_type": "execute_result"
    }
   ],
   "source": [
    "y_pred2 = cb.predict(x)\n",
    "precision_score(y, y_pred2), recall_score(y, y_pred2), f1_score(y,y_pred2),confusion_matrix(y,y_pred2)"
   ]
  },
  {
   "cell_type": "code",
   "execution_count": 42,
   "metadata": {},
   "outputs": [
    {
     "data": {
      "text/plain": [
       "(0.9356435643564357,\n",
       " 1.0,\n",
       " 0.9667519181585679,\n",
       " array([[352,  26],\n",
       "        [  0, 378]]))"
      ]
     },
     "execution_count": 42,
     "metadata": {},
     "output_type": "execute_result"
    }
   ],
   "source": [
    "y_pred2 = knn_model.predict(x)\n",
    "precision_score(y, y_pred2), recall_score(y, y_pred2), f1_score(y,y_pred2),confusion_matrix(y,y_pred2)"
   ]
  },
  {
   "cell_type": "code",
   "execution_count": 43,
   "metadata": {},
   "outputs": [
    {
     "data": {
      "text/plain": [
       "(0.7928730512249443,\n",
       " 0.9417989417989417,\n",
       " 0.8609431680773881,\n",
       " array([[285,  93],\n",
       "        [ 22, 356]]))"
      ]
     },
     "execution_count": 43,
     "metadata": {},
     "output_type": "execute_result"
    }
   ],
   "source": [
    "y_pred2 = model.predict(x)\n",
    "precision_score(y, y_pred2), recall_score(y, y_pred2), f1_score(y,y_pred2),confusion_matrix(y,y_pred2)"
   ]
  },
  {
   "cell_type": "markdown",
   "metadata": {},
   "source": [
    "Получили более качественные значения метрик (это говорит о переобученности модели)"
   ]
  }
 ],
 "metadata": {
  "colab": {
   "provenance": []
  },
  "kernelspec": {
   "display_name": "Python 3 (ipykernel)",
   "language": "python",
   "name": "python3"
  },
  "language_info": {
   "codemirror_mode": {
    "name": "ipython",
    "version": 3
   },
   "file_extension": ".py",
   "mimetype": "text/x-python",
   "name": "python",
   "nbconvert_exporter": "python",
   "pygments_lexer": "ipython3",
   "version": "3.11.5"
  }
 },
 "nbformat": 4,
 "nbformat_minor": 1
}
